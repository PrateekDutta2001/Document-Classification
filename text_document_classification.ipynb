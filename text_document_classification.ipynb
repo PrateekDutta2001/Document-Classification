{
  "metadata": {
    "kernelspec": {
      "language": "python",
      "display_name": "Python 3",
      "name": "python3"
    },
    "language_info": {
      "name": "python",
      "version": "3.10.12",
      "mimetype": "text/x-python",
      "codemirror_mode": {
        "name": "ipython",
        "version": 3
      },
      "pygments_lexer": "ipython3",
      "nbconvert_exporter": "python",
      "file_extension": ".py"
    },
    "colab": {
      "provenance": []
    }
  },
  "nbformat_minor": 0,
  "nbformat": 4,
  "cells": [
    {
      "cell_type": "code",
      "source": [
        "from google.colab import drive\n",
        "drive.mount('/gdrive/')\n",
        "%cd /gdrive"
      ],
      "metadata": {
        "colab": {
          "base_uri": "https://localhost:8080/"
        },
        "id": "qvWiEIXv7oW9",
        "outputId": "ce045e43-7e98-4154-a3f5-afc41c5e3b2e"
      },
      "execution_count": 2,
      "outputs": [
        {
          "output_type": "stream",
          "name": "stdout",
          "text": [
            "Drive already mounted at /gdrive/; to attempt to forcibly remount, call drive.mount(\"/gdrive/\", force_remount=True).\n",
            "/gdrive\n"
          ]
        }
      ]
    },
    {
      "cell_type": "code",
      "source": [
        "ls"
      ],
      "metadata": {
        "colab": {
          "base_uri": "https://localhost:8080/"
        },
        "id": "5j3dv5J97pQb",
        "outputId": "4cf81763-cbfb-43a6-80f9-6bce590221ac"
      },
      "execution_count": 3,
      "outputs": [
        {
          "output_type": "stream",
          "name": "stdout",
          "text": [
            "\u001b[0m\u001b[01;34mMyDrive\u001b[0m/\n"
          ]
        }
      ]
    },
    {
      "cell_type": "code",
      "source": [
        " cd/gdrive/MyDrive/Document_Classification/"
      ],
      "metadata": {
        "colab": {
          "base_uri": "https://localhost:8080/"
        },
        "id": "Oa4omq387wf6",
        "outputId": "e3db37b2-ac8c-40a1-b949-7bde6660a291"
      },
      "execution_count": 4,
      "outputs": [
        {
          "output_type": "stream",
          "name": "stdout",
          "text": [
            "/gdrive/MyDrive/Document_Classification\n"
          ]
        }
      ]
    },
    {
      "cell_type": "code",
      "source": [
        "ls"
      ],
      "metadata": {
        "colab": {
          "base_uri": "https://localhost:8080/"
        },
        "id": "MA494K3T72u_",
        "outputId": "713be575-79cc-49ef-cb76-93d7288270ec"
      },
      "execution_count": 5,
      "outputs": [
        {
          "output_type": "stream",
          "name": "stdout",
          "text": [
            "data.csv                       text-document-classification-clustering.ipynb\n",
            "document-classification.ipynb  text-document-classification.ipynb\n",
            "model_results.txt\n"
          ]
        }
      ]
    },
    {
      "cell_type": "code",
      "source": [
        "import numpy as np\n",
        "import pandas as pd"
      ],
      "metadata": {
        "_uuid": "8f2839f25d086af736a60e9eeb907d3b93b6e0e5",
        "_cell_guid": "b1076dfc-b9ad-4769-8c92-a6c4dae69d19",
        "execution": {
          "iopub.status.busy": "2023-12-10T07:25:16.333983Z",
          "iopub.execute_input": "2023-12-10T07:25:16.334423Z",
          "iopub.status.idle": "2023-12-10T07:25:16.650759Z",
          "shell.execute_reply.started": "2023-12-10T07:25:16.334386Z",
          "shell.execute_reply": "2023-12-10T07:25:16.649628Z"
        },
        "trusted": true,
        "id": "ZxVlyCc07iE4"
      },
      "execution_count": 6,
      "outputs": []
    },
    {
      "cell_type": "code",
      "source": [
        "data = pd.read_csv('data.csv')\n",
        "data.head()"
      ],
      "metadata": {
        "execution": {
          "iopub.status.busy": "2023-12-10T07:25:29.418197Z",
          "iopub.execute_input": "2023-12-10T07:25:29.418518Z",
          "iopub.status.idle": "2023-12-10T07:25:29.550272Z",
          "shell.execute_reply.started": "2023-12-10T07:25:29.418489Z",
          "shell.execute_reply": "2023-12-10T07:25:29.549545Z"
        },
        "trusted": true,
        "colab": {
          "base_uri": "https://localhost:8080/",
          "height": 206
        },
        "id": "Oa4vFGmZ7iE7",
        "outputId": "381005d7-915a-418f-c3e3-4c37dec70c49"
      },
      "execution_count": 7,
      "outputs": [
        {
          "output_type": "execute_result",
          "data": {
            "text/plain": [
              "                                                Text  Label\n",
              "0  Budget to set scene for election\\n \\n Gordon B...      0\n",
              "1  Army chiefs in regiments decision\\n \\n Militar...      0\n",
              "2  Howard denies split over ID cards\\n \\n Michael...      0\n",
              "3  Observers to monitor UK election\\n \\n Minister...      0\n",
              "4  Kilroy names election seat target\\n \\n Ex-chat...      0"
            ],
            "text/html": [
              "\n",
              "  <div id=\"df-19a78e8e-96d1-486e-ac53-f422809ef0b9\" class=\"colab-df-container\">\n",
              "    <div>\n",
              "<style scoped>\n",
              "    .dataframe tbody tr th:only-of-type {\n",
              "        vertical-align: middle;\n",
              "    }\n",
              "\n",
              "    .dataframe tbody tr th {\n",
              "        vertical-align: top;\n",
              "    }\n",
              "\n",
              "    .dataframe thead th {\n",
              "        text-align: right;\n",
              "    }\n",
              "</style>\n",
              "<table border=\"1\" class=\"dataframe\">\n",
              "  <thead>\n",
              "    <tr style=\"text-align: right;\">\n",
              "      <th></th>\n",
              "      <th>Text</th>\n",
              "      <th>Label</th>\n",
              "    </tr>\n",
              "  </thead>\n",
              "  <tbody>\n",
              "    <tr>\n",
              "      <th>0</th>\n",
              "      <td>Budget to set scene for election\\n \\n Gordon B...</td>\n",
              "      <td>0</td>\n",
              "    </tr>\n",
              "    <tr>\n",
              "      <th>1</th>\n",
              "      <td>Army chiefs in regiments decision\\n \\n Militar...</td>\n",
              "      <td>0</td>\n",
              "    </tr>\n",
              "    <tr>\n",
              "      <th>2</th>\n",
              "      <td>Howard denies split over ID cards\\n \\n Michael...</td>\n",
              "      <td>0</td>\n",
              "    </tr>\n",
              "    <tr>\n",
              "      <th>3</th>\n",
              "      <td>Observers to monitor UK election\\n \\n Minister...</td>\n",
              "      <td>0</td>\n",
              "    </tr>\n",
              "    <tr>\n",
              "      <th>4</th>\n",
              "      <td>Kilroy names election seat target\\n \\n Ex-chat...</td>\n",
              "      <td>0</td>\n",
              "    </tr>\n",
              "  </tbody>\n",
              "</table>\n",
              "</div>\n",
              "    <div class=\"colab-df-buttons\">\n",
              "\n",
              "  <div class=\"colab-df-container\">\n",
              "    <button class=\"colab-df-convert\" onclick=\"convertToInteractive('df-19a78e8e-96d1-486e-ac53-f422809ef0b9')\"\n",
              "            title=\"Convert this dataframe to an interactive table.\"\n",
              "            style=\"display:none;\">\n",
              "\n",
              "  <svg xmlns=\"http://www.w3.org/2000/svg\" height=\"24px\" viewBox=\"0 -960 960 960\">\n",
              "    <path d=\"M120-120v-720h720v720H120Zm60-500h600v-160H180v160Zm220 220h160v-160H400v160Zm0 220h160v-160H400v160ZM180-400h160v-160H180v160Zm440 0h160v-160H620v160ZM180-180h160v-160H180v160Zm440 0h160v-160H620v160Z\"/>\n",
              "  </svg>\n",
              "    </button>\n",
              "\n",
              "  <style>\n",
              "    .colab-df-container {\n",
              "      display:flex;\n",
              "      gap: 12px;\n",
              "    }\n",
              "\n",
              "    .colab-df-convert {\n",
              "      background-color: #E8F0FE;\n",
              "      border: none;\n",
              "      border-radius: 50%;\n",
              "      cursor: pointer;\n",
              "      display: none;\n",
              "      fill: #1967D2;\n",
              "      height: 32px;\n",
              "      padding: 0 0 0 0;\n",
              "      width: 32px;\n",
              "    }\n",
              "\n",
              "    .colab-df-convert:hover {\n",
              "      background-color: #E2EBFA;\n",
              "      box-shadow: 0px 1px 2px rgba(60, 64, 67, 0.3), 0px 1px 3px 1px rgba(60, 64, 67, 0.15);\n",
              "      fill: #174EA6;\n",
              "    }\n",
              "\n",
              "    .colab-df-buttons div {\n",
              "      margin-bottom: 4px;\n",
              "    }\n",
              "\n",
              "    [theme=dark] .colab-df-convert {\n",
              "      background-color: #3B4455;\n",
              "      fill: #D2E3FC;\n",
              "    }\n",
              "\n",
              "    [theme=dark] .colab-df-convert:hover {\n",
              "      background-color: #434B5C;\n",
              "      box-shadow: 0px 1px 3px 1px rgba(0, 0, 0, 0.15);\n",
              "      filter: drop-shadow(0px 1px 2px rgba(0, 0, 0, 0.3));\n",
              "      fill: #FFFFFF;\n",
              "    }\n",
              "  </style>\n",
              "\n",
              "    <script>\n",
              "      const buttonEl =\n",
              "        document.querySelector('#df-19a78e8e-96d1-486e-ac53-f422809ef0b9 button.colab-df-convert');\n",
              "      buttonEl.style.display =\n",
              "        google.colab.kernel.accessAllowed ? 'block' : 'none';\n",
              "\n",
              "      async function convertToInteractive(key) {\n",
              "        const element = document.querySelector('#df-19a78e8e-96d1-486e-ac53-f422809ef0b9');\n",
              "        const dataTable =\n",
              "          await google.colab.kernel.invokeFunction('convertToInteractive',\n",
              "                                                    [key], {});\n",
              "        if (!dataTable) return;\n",
              "\n",
              "        const docLinkHtml = 'Like what you see? Visit the ' +\n",
              "          '<a target=\"_blank\" href=https://colab.research.google.com/notebooks/data_table.ipynb>data table notebook</a>'\n",
              "          + ' to learn more about interactive tables.';\n",
              "        element.innerHTML = '';\n",
              "        dataTable['output_type'] = 'display_data';\n",
              "        await google.colab.output.renderOutput(dataTable, element);\n",
              "        const docLink = document.createElement('div');\n",
              "        docLink.innerHTML = docLinkHtml;\n",
              "        element.appendChild(docLink);\n",
              "      }\n",
              "    </script>\n",
              "  </div>\n",
              "\n",
              "\n",
              "<div id=\"df-ec8103c3-618b-4b4d-bdc6-acf111508af9\">\n",
              "  <button class=\"colab-df-quickchart\" onclick=\"quickchart('df-ec8103c3-618b-4b4d-bdc6-acf111508af9')\"\n",
              "            title=\"Suggest charts\"\n",
              "            style=\"display:none;\">\n",
              "\n",
              "<svg xmlns=\"http://www.w3.org/2000/svg\" height=\"24px\"viewBox=\"0 0 24 24\"\n",
              "     width=\"24px\">\n",
              "    <g>\n",
              "        <path d=\"M19 3H5c-1.1 0-2 .9-2 2v14c0 1.1.9 2 2 2h14c1.1 0 2-.9 2-2V5c0-1.1-.9-2-2-2zM9 17H7v-7h2v7zm4 0h-2V7h2v10zm4 0h-2v-4h2v4z\"/>\n",
              "    </g>\n",
              "</svg>\n",
              "  </button>\n",
              "\n",
              "<style>\n",
              "  .colab-df-quickchart {\n",
              "      --bg-color: #E8F0FE;\n",
              "      --fill-color: #1967D2;\n",
              "      --hover-bg-color: #E2EBFA;\n",
              "      --hover-fill-color: #174EA6;\n",
              "      --disabled-fill-color: #AAA;\n",
              "      --disabled-bg-color: #DDD;\n",
              "  }\n",
              "\n",
              "  [theme=dark] .colab-df-quickchart {\n",
              "      --bg-color: #3B4455;\n",
              "      --fill-color: #D2E3FC;\n",
              "      --hover-bg-color: #434B5C;\n",
              "      --hover-fill-color: #FFFFFF;\n",
              "      --disabled-bg-color: #3B4455;\n",
              "      --disabled-fill-color: #666;\n",
              "  }\n",
              "\n",
              "  .colab-df-quickchart {\n",
              "    background-color: var(--bg-color);\n",
              "    border: none;\n",
              "    border-radius: 50%;\n",
              "    cursor: pointer;\n",
              "    display: none;\n",
              "    fill: var(--fill-color);\n",
              "    height: 32px;\n",
              "    padding: 0;\n",
              "    width: 32px;\n",
              "  }\n",
              "\n",
              "  .colab-df-quickchart:hover {\n",
              "    background-color: var(--hover-bg-color);\n",
              "    box-shadow: 0 1px 2px rgba(60, 64, 67, 0.3), 0 1px 3px 1px rgba(60, 64, 67, 0.15);\n",
              "    fill: var(--button-hover-fill-color);\n",
              "  }\n",
              "\n",
              "  .colab-df-quickchart-complete:disabled,\n",
              "  .colab-df-quickchart-complete:disabled:hover {\n",
              "    background-color: var(--disabled-bg-color);\n",
              "    fill: var(--disabled-fill-color);\n",
              "    box-shadow: none;\n",
              "  }\n",
              "\n",
              "  .colab-df-spinner {\n",
              "    border: 2px solid var(--fill-color);\n",
              "    border-color: transparent;\n",
              "    border-bottom-color: var(--fill-color);\n",
              "    animation:\n",
              "      spin 1s steps(1) infinite;\n",
              "  }\n",
              "\n",
              "  @keyframes spin {\n",
              "    0% {\n",
              "      border-color: transparent;\n",
              "      border-bottom-color: var(--fill-color);\n",
              "      border-left-color: var(--fill-color);\n",
              "    }\n",
              "    20% {\n",
              "      border-color: transparent;\n",
              "      border-left-color: var(--fill-color);\n",
              "      border-top-color: var(--fill-color);\n",
              "    }\n",
              "    30% {\n",
              "      border-color: transparent;\n",
              "      border-left-color: var(--fill-color);\n",
              "      border-top-color: var(--fill-color);\n",
              "      border-right-color: var(--fill-color);\n",
              "    }\n",
              "    40% {\n",
              "      border-color: transparent;\n",
              "      border-right-color: var(--fill-color);\n",
              "      border-top-color: var(--fill-color);\n",
              "    }\n",
              "    60% {\n",
              "      border-color: transparent;\n",
              "      border-right-color: var(--fill-color);\n",
              "    }\n",
              "    80% {\n",
              "      border-color: transparent;\n",
              "      border-right-color: var(--fill-color);\n",
              "      border-bottom-color: var(--fill-color);\n",
              "    }\n",
              "    90% {\n",
              "      border-color: transparent;\n",
              "      border-bottom-color: var(--fill-color);\n",
              "    }\n",
              "  }\n",
              "</style>\n",
              "\n",
              "  <script>\n",
              "    async function quickchart(key) {\n",
              "      const quickchartButtonEl =\n",
              "        document.querySelector('#' + key + ' button');\n",
              "      quickchartButtonEl.disabled = true;  // To prevent multiple clicks.\n",
              "      quickchartButtonEl.classList.add('colab-df-spinner');\n",
              "      try {\n",
              "        const charts = await google.colab.kernel.invokeFunction(\n",
              "            'suggestCharts', [key], {});\n",
              "      } catch (error) {\n",
              "        console.error('Error during call to suggestCharts:', error);\n",
              "      }\n",
              "      quickchartButtonEl.classList.remove('colab-df-spinner');\n",
              "      quickchartButtonEl.classList.add('colab-df-quickchart-complete');\n",
              "    }\n",
              "    (() => {\n",
              "      let quickchartButtonEl =\n",
              "        document.querySelector('#df-ec8103c3-618b-4b4d-bdc6-acf111508af9 button');\n",
              "      quickchartButtonEl.style.display =\n",
              "        google.colab.kernel.accessAllowed ? 'block' : 'none';\n",
              "    })();\n",
              "  </script>\n",
              "</div>\n",
              "    </div>\n",
              "  </div>\n"
            ]
          },
          "metadata": {},
          "execution_count": 7
        }
      ]
    },
    {
      "cell_type": "code",
      "source": [
        "data.shape"
      ],
      "metadata": {
        "execution": {
          "iopub.status.busy": "2023-12-10T07:26:58.856406Z",
          "iopub.execute_input": "2023-12-10T07:26:58.856800Z",
          "iopub.status.idle": "2023-12-10T07:26:58.863966Z",
          "shell.execute_reply.started": "2023-12-10T07:26:58.856770Z",
          "shell.execute_reply": "2023-12-10T07:26:58.862415Z"
        },
        "trusted": true,
        "colab": {
          "base_uri": "https://localhost:8080/"
        },
        "id": "2_oqgUqr7iE8",
        "outputId": "f5f99825-f44b-4b31-e144-e447feead10c"
      },
      "execution_count": 8,
      "outputs": [
        {
          "output_type": "execute_result",
          "data": {
            "text/plain": [
              "(2225, 2)"
            ]
          },
          "metadata": {},
          "execution_count": 8
        }
      ]
    },
    {
      "cell_type": "code",
      "source": [
        "data.Label.value_counts(normalize=True)"
      ],
      "metadata": {
        "execution": {
          "iopub.status.busy": "2023-12-10T07:33:46.511370Z",
          "iopub.execute_input": "2023-12-10T07:33:46.511692Z",
          "iopub.status.idle": "2023-12-10T07:33:46.519759Z",
          "shell.execute_reply.started": "2023-12-10T07:33:46.511668Z",
          "shell.execute_reply": "2023-12-10T07:33:46.518820Z"
        },
        "trusted": true,
        "colab": {
          "base_uri": "https://localhost:8080/"
        },
        "id": "8iyS1SL-7iE9",
        "outputId": "d6849fed-f27e-4b9f-d8c5-4f10ca87dd77"
      },
      "execution_count": 9,
      "outputs": [
        {
          "output_type": "execute_result",
          "data": {
            "text/plain": [
              "1    0.229663\n",
              "4    0.229213\n",
              "0    0.187416\n",
              "2    0.180225\n",
              "3    0.173483\n",
              "Name: Label, dtype: float64"
            ]
          },
          "metadata": {},
          "execution_count": 9
        }
      ]
    },
    {
      "cell_type": "code",
      "source": [
        "data.isnull().sum()"
      ],
      "metadata": {
        "execution": {
          "iopub.status.busy": "2023-12-10T07:33:49.742651Z",
          "iopub.execute_input": "2023-12-10T07:33:49.743011Z",
          "iopub.status.idle": "2023-12-10T07:33:49.750896Z",
          "shell.execute_reply.started": "2023-12-10T07:33:49.742983Z",
          "shell.execute_reply": "2023-12-10T07:33:49.749940Z"
        },
        "trusted": true,
        "colab": {
          "base_uri": "https://localhost:8080/"
        },
        "id": "WyJ8Hkbw7iE9",
        "outputId": "4fd798ec-c425-4b7d-90e6-ae62a2bcfb37"
      },
      "execution_count": 10,
      "outputs": [
        {
          "output_type": "execute_result",
          "data": {
            "text/plain": [
              "Text     0\n",
              "Label    0\n",
              "dtype: int64"
            ]
          },
          "metadata": {},
          "execution_count": 10
        }
      ]
    },
    {
      "cell_type": "code",
      "source": [
        "data.drop_duplicates(subset=['Text'], inplace=True)"
      ],
      "metadata": {
        "execution": {
          "iopub.status.busy": "2023-12-10T07:35:18.761525Z",
          "iopub.execute_input": "2023-12-10T07:35:18.761882Z",
          "iopub.status.idle": "2023-12-10T07:35:18.768715Z",
          "shell.execute_reply.started": "2023-12-10T07:35:18.761854Z",
          "shell.execute_reply": "2023-12-10T07:35:18.767505Z"
        },
        "trusted": true,
        "id": "c1pZI2J97iE9"
      },
      "execution_count": 11,
      "outputs": []
    },
    {
      "cell_type": "code",
      "source": [
        "data.shape"
      ],
      "metadata": {
        "execution": {
          "iopub.status.busy": "2023-12-10T07:35:20.885098Z",
          "iopub.execute_input": "2023-12-10T07:35:20.885474Z",
          "iopub.status.idle": "2023-12-10T07:35:20.892579Z",
          "shell.execute_reply.started": "2023-12-10T07:35:20.885448Z",
          "shell.execute_reply": "2023-12-10T07:35:20.891229Z"
        },
        "trusted": true,
        "colab": {
          "base_uri": "https://localhost:8080/"
        },
        "id": "n9ZAtSsB7iE9",
        "outputId": "bd3f14e1-95be-4cb7-b441-12ed8b8e6cbc"
      },
      "execution_count": 12,
      "outputs": [
        {
          "output_type": "execute_result",
          "data": {
            "text/plain": [
              "(2127, 2)"
            ]
          },
          "metadata": {},
          "execution_count": 12
        }
      ]
    },
    {
      "cell_type": "code",
      "source": [
        "import keras\n",
        "from keras.preprocessing.text import Tokenizer\n",
        "\n",
        "tokenizer = Tokenizer(oov_token='UNK') # oov : out of vocabulry\n",
        "tokenizer.fit_on_texts(data['Text'])\n",
        "\n",
        "# print(tokenizer.word_index)\n",
        "# print(tokenizer.index_word)\n",
        "# print(tokenizer.word_counts)\n",
        "\n",
        "word_counts = len(tokenizer.word_index) + 1\n",
        "print(word_counts)"
      ],
      "metadata": {
        "execution": {
          "iopub.status.busy": "2023-12-10T07:44:18.056251Z",
          "iopub.execute_input": "2023-12-10T07:44:18.056632Z",
          "iopub.status.idle": "2023-12-10T07:44:18.705689Z",
          "shell.execute_reply.started": "2023-12-10T07:44:18.056605Z",
          "shell.execute_reply": "2023-12-10T07:44:18.704312Z"
        },
        "trusted": true,
        "colab": {
          "base_uri": "https://localhost:8080/"
        },
        "id": "2XNpj4Hr7iE-",
        "outputId": "a8e55c31-fb9a-46cd-8dca-26821849d1f6"
      },
      "execution_count": 13,
      "outputs": [
        {
          "output_type": "stream",
          "name": "stdout",
          "text": [
            "32362\n"
          ]
        }
      ]
    },
    {
      "cell_type": "markdown",
      "source": [
        "# covert each sentence to ids"
      ],
      "metadata": {
        "id": "h0WdAzxc7iE-"
      }
    },
    {
      "cell_type": "code",
      "source": [
        "sequences = tokenizer.texts_to_sequences(data['Text'])"
      ],
      "metadata": {
        "execution": {
          "iopub.status.busy": "2023-12-10T07:52:37.622289Z",
          "iopub.execute_input": "2023-12-10T07:52:37.622638Z",
          "iopub.status.idle": "2023-12-10T07:52:38.073945Z",
          "shell.execute_reply.started": "2023-12-10T07:52:37.622614Z",
          "shell.execute_reply": "2023-12-10T07:52:38.072969Z"
        },
        "trusted": true,
        "id": "5a_n0pPO7iE_"
      },
      "execution_count": 14,
      "outputs": []
    },
    {
      "cell_type": "markdown",
      "source": [
        "# padding"
      ],
      "metadata": {
        "id": "-swfHIi67iE_"
      }
    },
    {
      "cell_type": "code",
      "source": [
        "max_length = np.mean([len(seq) for seq in sequences])\n",
        "print(max_length)"
      ],
      "metadata": {
        "execution": {
          "iopub.status.busy": "2023-12-10T07:59:10.150103Z",
          "iopub.execute_input": "2023-12-10T07:59:10.150594Z",
          "iopub.status.idle": "2023-12-10T07:59:10.157934Z",
          "shell.execute_reply.started": "2023-12-10T07:59:10.150559Z",
          "shell.execute_reply": "2023-12-10T07:59:10.156601Z"
        },
        "trusted": true,
        "colab": {
          "base_uri": "https://localhost:8080/"
        },
        "id": "eOLVCnnO7iE_",
        "outputId": "249169d6-b55c-4990-905a-ac1c5513f94d"
      },
      "execution_count": 15,
      "outputs": [
        {
          "output_type": "stream",
          "name": "stdout",
          "text": [
            "388.68453220498355\n"
          ]
        }
      ]
    },
    {
      "cell_type": "markdown",
      "source": [
        "### padding : add zeros if the sentence have a words less than the max length\n",
        "### truncation : remove words from sentence if it has a words above the max length."
      ],
      "metadata": {
        "id": "SFcNYYC97iFA"
      }
    },
    {
      "cell_type": "code",
      "source": [
        "from keras.preprocessing.sequence import pad_sequences\n",
        "\n",
        "padded_sequences = pad_sequences(sequences, padding='post', truncating='post', maxlen=400)"
      ],
      "metadata": {
        "execution": {
          "iopub.status.busy": "2023-12-10T08:02:24.392494Z",
          "iopub.execute_input": "2023-12-10T08:02:24.392867Z",
          "iopub.status.idle": "2023-12-10T08:02:24.446696Z",
          "shell.execute_reply.started": "2023-12-10T08:02:24.392840Z",
          "shell.execute_reply": "2023-12-10T08:02:24.445702Z"
        },
        "trusted": true,
        "id": "uCxrLwiY7iFA"
      },
      "execution_count": 16,
      "outputs": []
    },
    {
      "cell_type": "code",
      "source": [
        "padded_sequences.shape"
      ],
      "metadata": {
        "execution": {
          "iopub.status.busy": "2023-12-10T08:13:01.235703Z",
          "iopub.execute_input": "2023-12-10T08:13:01.236247Z",
          "iopub.status.idle": "2023-12-10T08:13:01.246939Z",
          "shell.execute_reply.started": "2023-12-10T08:13:01.236210Z",
          "shell.execute_reply": "2023-12-10T08:13:01.244937Z"
        },
        "trusted": true,
        "colab": {
          "base_uri": "https://localhost:8080/"
        },
        "id": "w-JTAMXT7iFA",
        "outputId": "9fa10a4a-58cd-494d-ff64-1da67e37ec06"
      },
      "execution_count": 17,
      "outputs": [
        {
          "output_type": "execute_result",
          "data": {
            "text/plain": [
              "(2127, 400)"
            ]
          },
          "metadata": {},
          "execution_count": 17
        }
      ]
    },
    {
      "cell_type": "code",
      "source": [
        "padded_sequences"
      ],
      "metadata": {
        "execution": {
          "iopub.status.busy": "2023-12-10T08:50:59.717907Z",
          "iopub.execute_input": "2023-12-10T08:50:59.718396Z",
          "iopub.status.idle": "2023-12-10T08:50:59.728185Z",
          "shell.execute_reply.started": "2023-12-10T08:50:59.718360Z",
          "shell.execute_reply": "2023-12-10T08:50:59.725126Z"
        },
        "trusted": true,
        "colab": {
          "base_uri": "https://localhost:8080/"
        },
        "id": "2MvWa8c87iFB",
        "outputId": "b78dd83e-7afb-4258-c662-3963be5b8f54"
      },
      "execution_count": 18,
      "outputs": [
        {
          "output_type": "execute_result",
          "data": {
            "text/plain": [
              "array([[ 398,    3,  109, ...,   28,  218, 1598],\n",
              "       [3191, 4738,    7, ...,    2,  544,   23],\n",
              "       [ 282, 3471, 2484, ..., 1152,    6, 2003],\n",
              "       ...,\n",
              "       [ 824, 8245, 1397, ...,    0,    0,    0],\n",
              "       [ 161, 1246,  345, ...,   24,  254,  386],\n",
              "       [  48,  423, 2197, ...,    0,    0,    0]], dtype=int32)"
            ]
          },
          "metadata": {},
          "execution_count": 18
        }
      ]
    },
    {
      "cell_type": "markdown",
      "source": [
        "# split the data to train and test"
      ],
      "metadata": {
        "id": "ez6GkMjM7iFB"
      }
    },
    {
      "cell_type": "code",
      "source": [
        "from sklearn.model_selection import train_test_split\n",
        "\n",
        "X_train, X_test, y_train, y_test = train_test_split(padded_sequences, data['Label'],\n",
        "                                                    test_size=0.2,\n",
        "                                                    random_state=123,\n",
        "                                                    stratify=data['Label'],\n",
        "                                                    shuffle=True)"
      ],
      "metadata": {
        "execution": {
          "iopub.status.busy": "2023-12-10T08:05:17.423156Z",
          "iopub.execute_input": "2023-12-10T08:05:17.423533Z",
          "iopub.status.idle": "2023-12-10T08:05:17.435750Z",
          "shell.execute_reply.started": "2023-12-10T08:05:17.423506Z",
          "shell.execute_reply": "2023-12-10T08:05:17.434936Z"
        },
        "trusted": true,
        "id": "o3Ecx0Fx7iFC"
      },
      "execution_count": 19,
      "outputs": []
    },
    {
      "cell_type": "markdown",
      "source": [
        "# One Hot Encoding Labels"
      ],
      "metadata": {
        "id": "EomB4xgn7iFC"
      }
    },
    {
      "cell_type": "code",
      "source": [
        "from keras.utils import to_categorical\n",
        "\n",
        "y_train_encoded = to_categorical(y_train)\n",
        "y_test_encoded = to_categorical(y_test)\n",
        "\n",
        "y_train_encoded"
      ],
      "metadata": {
        "execution": {
          "iopub.status.busy": "2023-12-10T08:07:57.071685Z",
          "iopub.execute_input": "2023-12-10T08:07:57.072211Z",
          "iopub.status.idle": "2023-12-10T08:07:57.083813Z",
          "shell.execute_reply.started": "2023-12-10T08:07:57.072172Z",
          "shell.execute_reply": "2023-12-10T08:07:57.082214Z"
        },
        "trusted": true,
        "colab": {
          "base_uri": "https://localhost:8080/"
        },
        "id": "fMbL9eqv7iFD",
        "outputId": "9dcc4a33-e312-43ec-d1af-f1abff09eb82"
      },
      "execution_count": 20,
      "outputs": [
        {
          "output_type": "execute_result",
          "data": {
            "text/plain": [
              "array([[1., 0., 0., 0., 0.],\n",
              "       [0., 0., 0., 0., 1.],\n",
              "       [0., 0., 0., 0., 1.],\n",
              "       ...,\n",
              "       [0., 0., 0., 0., 1.],\n",
              "       [0., 0., 0., 1., 0.],\n",
              "       [0., 1., 0., 0., 0.]], dtype=float32)"
            ]
          },
          "metadata": {},
          "execution_count": 20
        }
      ]
    },
    {
      "cell_type": "markdown",
      "source": [
        "# Model Building"
      ],
      "metadata": {
        "id": "-WpRxt947iFD"
      }
    },
    {
      "cell_type": "code",
      "source": [
        "def relu(x):\n",
        "    return np.maximum(0, x)\n",
        "relu(-10)"
      ],
      "metadata": {
        "execution": {
          "iopub.status.busy": "2023-12-10T08:24:07.588291Z",
          "iopub.execute_input": "2023-12-10T08:24:07.588742Z",
          "iopub.status.idle": "2023-12-10T08:24:07.597515Z",
          "shell.execute_reply.started": "2023-12-10T08:24:07.588704Z",
          "shell.execute_reply": "2023-12-10T08:24:07.596614Z"
        },
        "trusted": true,
        "colab": {
          "base_uri": "https://localhost:8080/"
        },
        "id": "TmHkTG0b7iFD",
        "outputId": "78772c27-001e-42d9-e40b-d835ce466658"
      },
      "execution_count": 21,
      "outputs": [
        {
          "output_type": "execute_result",
          "data": {
            "text/plain": [
              "0"
            ]
          },
          "metadata": {},
          "execution_count": 21
        }
      ]
    },
    {
      "cell_type": "code",
      "source": [
        "from keras.models import Sequential\n",
        "from keras import layers\n",
        "\n",
        "model = Sequential()\n",
        "model.add(layers.Embedding(input_dim=word_counts, output_dim=300, input_length=400, mask_zero=True)) # output (عدد الكلمات في طول الفيكتور)\n",
        "model.add(layers.Flatten()) # # output >>  (2127, 300) # output the average vector for each sentence\n",
        "model.add(layers.BatchNormalization()) # output >>  (2127, 300)\n",
        "model.add(layers.Dense(128, activation='relu')) # (300, 128)\n",
        "model.add(layers.Dense(256, activation='relu')) # (128, 256) >> (2127, 256)\n",
        "model.add(layers.Dense(5)) # (256, 5) >> (2127, 5)\n",
        "model.add(layers.Softmax())\n",
        "\n",
        "model.compile(loss='categorical_crossentropy', optimizer='adam', metrics=['acc'])"
      ],
      "metadata": {
        "execution": {
          "iopub.status.busy": "2023-12-10T08:58:27.354350Z",
          "iopub.execute_input": "2023-12-10T08:58:27.354891Z",
          "iopub.status.idle": "2023-12-10T08:58:27.614531Z",
          "shell.execute_reply.started": "2023-12-10T08:58:27.354847Z",
          "shell.execute_reply": "2023-12-10T08:58:27.612726Z"
        },
        "trusted": true,
        "id": "1oBeaslJ7iFD"
      },
      "execution_count": 22,
      "outputs": []
    },
    {
      "cell_type": "markdown",
      "source": [
        "# Training Model"
      ],
      "metadata": {
        "id": "I28bkyCV7iFE"
      }
    },
    {
      "cell_type": "code",
      "source": [
        "# model.fit(X_train, y_train_encoded, epochs=20, batch_size=128, validation_split=0.1)\n",
        "model.fit(X_train, y_train_encoded, epochs=30, batch_size=128, validation_data=(X_test, y_test_encoded)) # using test data as validation data too."
      ],
      "metadata": {
        "execution": {
          "iopub.status.busy": "2023-12-10T08:58:30.118433Z",
          "iopub.execute_input": "2023-12-10T08:58:30.121025Z",
          "iopub.status.idle": "2023-12-10T09:01:53.991248Z",
          "shell.execute_reply.started": "2023-12-10T08:58:30.120947Z",
          "shell.execute_reply": "2023-12-10T09:01:53.989182Z"
        },
        "trusted": true,
        "colab": {
          "base_uri": "https://localhost:8080/"
        },
        "id": "KaS_G-gE7iFE",
        "outputId": "da287241-8162-4d18-e8a5-30ceb1692dc4"
      },
      "execution_count": 23,
      "outputs": [
        {
          "output_type": "stream",
          "name": "stdout",
          "text": [
            "Epoch 1/30\n",
            "14/14 [==============================] - 20s 1s/step - loss: 4.9949 - acc: 0.3286 - val_loss: 1.5693 - val_acc: 0.3615\n",
            "Epoch 2/30\n",
            "14/14 [==============================] - 18s 1s/step - loss: 0.1509 - acc: 0.9577 - val_loss: 1.4885 - val_acc: 0.4014\n",
            "Epoch 3/30\n",
            "14/14 [==============================] - 18s 1s/step - loss: 0.0193 - acc: 0.9929 - val_loss: 1.4721 - val_acc: 0.4296\n",
            "Epoch 4/30\n",
            "14/14 [==============================] - 18s 1s/step - loss: 0.0012 - acc: 1.0000 - val_loss: 1.4613 - val_acc: 0.4178\n",
            "Epoch 5/30\n",
            "14/14 [==============================] - 18s 1s/step - loss: 4.6085e-04 - acc: 1.0000 - val_loss: 1.4490 - val_acc: 0.4413\n",
            "Epoch 6/30\n",
            "14/14 [==============================] - 17s 1s/step - loss: 2.4367e-04 - acc: 1.0000 - val_loss: 1.4373 - val_acc: 0.4671\n",
            "Epoch 7/30\n",
            "14/14 [==============================] - 17s 1s/step - loss: 1.5239e-04 - acc: 1.0000 - val_loss: 1.4257 - val_acc: 0.4859\n",
            "Epoch 8/30\n",
            "14/14 [==============================] - 17s 1s/step - loss: 2.8308e-04 - acc: 1.0000 - val_loss: 1.4140 - val_acc: 0.5235\n",
            "Epoch 9/30\n",
            "14/14 [==============================] - 17s 1s/step - loss: 1.8018e-04 - acc: 1.0000 - val_loss: 1.4058 - val_acc: 0.5516\n",
            "Epoch 10/30\n",
            "14/14 [==============================] - 18s 1s/step - loss: 9.7904e-05 - acc: 1.0000 - val_loss: 1.3914 - val_acc: 0.5657\n",
            "Epoch 11/30\n",
            "14/14 [==============================] - 17s 1s/step - loss: 1.2538e-04 - acc: 1.0000 - val_loss: 1.3765 - val_acc: 0.5822\n",
            "Epoch 12/30\n",
            "14/14 [==============================] - 17s 1s/step - loss: 3.1463e-04 - acc: 1.0000 - val_loss: 1.3583 - val_acc: 0.6033\n",
            "Epoch 13/30\n",
            "14/14 [==============================] - 17s 1s/step - loss: 8.2918e-05 - acc: 1.0000 - val_loss: 1.3314 - val_acc: 0.6127\n",
            "Epoch 14/30\n",
            "14/14 [==============================] - 17s 1s/step - loss: 1.4454e-04 - acc: 1.0000 - val_loss: 1.3114 - val_acc: 0.6197\n",
            "Epoch 15/30\n",
            "14/14 [==============================] - 17s 1s/step - loss: 7.6083e-05 - acc: 1.0000 - val_loss: 1.2905 - val_acc: 0.6385\n",
            "Epoch 16/30\n",
            "14/14 [==============================] - 16s 1s/step - loss: 5.9008e-05 - acc: 1.0000 - val_loss: 1.2690 - val_acc: 0.6526\n",
            "Epoch 17/30\n",
            "14/14 [==============================] - 17s 1s/step - loss: 4.8833e-05 - acc: 1.0000 - val_loss: 1.2463 - val_acc: 0.6596\n",
            "Epoch 18/30\n",
            "14/14 [==============================] - 16s 1s/step - loss: 4.3582e-05 - acc: 1.0000 - val_loss: 1.2230 - val_acc: 0.6690\n",
            "Epoch 19/30\n",
            "14/14 [==============================] - 17s 1s/step - loss: 3.4061e-05 - acc: 1.0000 - val_loss: 1.1987 - val_acc: 0.6761\n",
            "Epoch 20/30\n",
            "14/14 [==============================] - 17s 1s/step - loss: 4.0832e-05 - acc: 1.0000 - val_loss: 1.1734 - val_acc: 0.6831\n",
            "Epoch 21/30\n",
            "14/14 [==============================] - 17s 1s/step - loss: 3.3190e-05 - acc: 1.0000 - val_loss: 1.1483 - val_acc: 0.6854\n",
            "Epoch 22/30\n",
            "14/14 [==============================] - 16s 1s/step - loss: 5.2242e-05 - acc: 1.0000 - val_loss: 1.1223 - val_acc: 0.6901\n",
            "Epoch 23/30\n",
            "14/14 [==============================] - 17s 1s/step - loss: 4.1229e-05 - acc: 1.0000 - val_loss: 1.0960 - val_acc: 0.6972\n",
            "Epoch 24/30\n",
            "14/14 [==============================] - 17s 1s/step - loss: 2.8622e-05 - acc: 1.0000 - val_loss: 1.0700 - val_acc: 0.6925\n",
            "Epoch 25/30\n",
            "14/14 [==============================] - 17s 1s/step - loss: 2.6467e-05 - acc: 1.0000 - val_loss: 1.0443 - val_acc: 0.6925\n",
            "Epoch 26/30\n",
            "14/14 [==============================] - 17s 1s/step - loss: 2.6180e-05 - acc: 1.0000 - val_loss: 1.0202 - val_acc: 0.6948\n",
            "Epoch 27/30\n",
            "14/14 [==============================] - 17s 1s/step - loss: 2.3611e-05 - acc: 1.0000 - val_loss: 0.9965 - val_acc: 0.6995\n",
            "Epoch 28/30\n",
            "14/14 [==============================] - 17s 1s/step - loss: 2.3109e-05 - acc: 1.0000 - val_loss: 0.9739 - val_acc: 0.7042\n",
            "Epoch 29/30\n",
            "14/14 [==============================] - 17s 1s/step - loss: 2.9201e-05 - acc: 1.0000 - val_loss: 0.9532 - val_acc: 0.7042\n",
            "Epoch 30/30\n",
            "14/14 [==============================] - 17s 1s/step - loss: 1.7412e-05 - acc: 1.0000 - val_loss: 0.9328 - val_acc: 0.7089\n"
          ]
        },
        {
          "output_type": "execute_result",
          "data": {
            "text/plain": [
              "<keras.src.callbacks.History at 0x7d201d141de0>"
            ]
          },
          "metadata": {},
          "execution_count": 23
        }
      ]
    },
    {
      "cell_type": "code",
      "source": [
        "model.evaluate(X_test, y_test_encoded)"
      ],
      "metadata": {
        "execution": {
          "iopub.status.busy": "2023-12-10T09:08:06.897927Z",
          "iopub.execute_input": "2023-12-10T09:08:06.898445Z",
          "iopub.status.idle": "2023-12-10T09:08:07.607410Z",
          "shell.execute_reply.started": "2023-12-10T09:08:06.898406Z",
          "shell.execute_reply": "2023-12-10T09:08:07.605732Z"
        },
        "trusted": true,
        "colab": {
          "base_uri": "https://localhost:8080/"
        },
        "id": "pCLVBMpZ7iFE",
        "outputId": "f52bc775-92bf-411f-9458-e73efedfb5dc"
      },
      "execution_count": 24,
      "outputs": [
        {
          "output_type": "stream",
          "name": "stdout",
          "text": [
            "14/14 [==============================] - 1s 53ms/step - loss: 0.9328 - acc: 0.7089\n"
          ]
        },
        {
          "output_type": "execute_result",
          "data": {
            "text/plain": [
              "[0.9327991604804993, 0.7089201807975769]"
            ]
          },
          "metadata": {},
          "execution_count": 24
        }
      ]
    },
    {
      "cell_type": "code",
      "source": [
        "predictions = model.predict(X_test).argmax(axis=1)"
      ],
      "metadata": {
        "execution": {
          "iopub.status.busy": "2023-12-10T09:08:27.384629Z",
          "iopub.execute_input": "2023-12-10T09:08:27.386587Z",
          "iopub.status.idle": "2023-12-10T09:08:28.180553Z",
          "shell.execute_reply.started": "2023-12-10T09:08:27.386538Z",
          "shell.execute_reply": "2023-12-10T09:08:28.178204Z"
        },
        "trusted": true,
        "colab": {
          "base_uri": "https://localhost:8080/"
        },
        "id": "fxR5eefQ7iFF",
        "outputId": "872788e0-a364-4106-9320-cec84e4641e1"
      },
      "execution_count": 25,
      "outputs": [
        {
          "output_type": "stream",
          "name": "stdout",
          "text": [
            "14/14 [==============================] - 1s 34ms/step\n"
          ]
        }
      ]
    },
    {
      "cell_type": "code",
      "source": [
        "model.save(\"my_model.h5\")"
      ],
      "metadata": {
        "colab": {
          "base_uri": "https://localhost:8080/"
        },
        "id": "oruUYCSURUQI",
        "outputId": "d1618e94-534a-4b44-d331-9f63d3327650"
      },
      "execution_count": 29,
      "outputs": [
        {
          "output_type": "stream",
          "name": "stderr",
          "text": [
            "/usr/local/lib/python3.10/dist-packages/keras/src/engine/training.py:3079: UserWarning: You are saving your model as an HDF5 file via `model.save()`. This file format is considered legacy. We recommend using instead the native Keras format, e.g. `model.save('my_model.keras')`.\n",
            "  saving_api.save_model(\n"
          ]
        }
      ]
    },
    {
      "cell_type": "code",
      "source": [
        "predictions"
      ],
      "metadata": {
        "execution": {
          "iopub.status.busy": "2023-12-10T09:08:30.242235Z",
          "iopub.execute_input": "2023-12-10T09:08:30.242812Z",
          "iopub.status.idle": "2023-12-10T09:08:30.251080Z",
          "shell.execute_reply.started": "2023-12-10T09:08:30.242771Z",
          "shell.execute_reply": "2023-12-10T09:08:30.249713Z"
        },
        "trusted": true,
        "colab": {
          "base_uri": "https://localhost:8080/"
        },
        "id": "0x9x96kB7iFF",
        "outputId": "527339a7-169d-4c20-afbb-924192119c77"
      },
      "execution_count": 26,
      "outputs": [
        {
          "output_type": "execute_result",
          "data": {
            "text/plain": [
              "array([0, 2, 2, 2, 3, 1, 2, 1, 1, 4, 2, 3, 1, 0, 1, 4, 4, 2, 4, 1, 4, 0,\n",
              "       1, 4, 4, 1, 3, 2, 3, 4, 1, 4, 1, 1, 1, 0, 3, 2, 1, 3, 4, 2, 4, 2,\n",
              "       2, 3, 4, 3, 4, 2, 4, 2, 1, 3, 2, 1, 2, 3, 2, 3, 1, 1, 1, 3, 4, 3,\n",
              "       3, 1, 1, 0, 1, 4, 1, 3, 2, 4, 0, 0, 3, 0, 4, 2, 1, 1, 1, 1, 0, 2,\n",
              "       4, 4, 4, 0, 1, 3, 1, 1, 4, 0, 3, 0, 2, 1, 4, 4, 0, 1, 2, 4, 0, 0,\n",
              "       1, 1, 1, 4, 3, 1, 2, 0, 4, 1, 4, 1, 2, 4, 1, 4, 0, 2, 2, 3, 2, 0,\n",
              "       2, 1, 2, 1, 1, 3, 3, 4, 0, 2, 1, 0, 1, 0, 4, 4, 4, 0, 1, 4, 4, 4,\n",
              "       3, 4, 2, 2, 1, 1, 3, 3, 2, 1, 4, 2, 0, 4, 4, 1, 4, 1, 1, 2, 4, 4,\n",
              "       0, 0, 1, 1, 1, 2, 2, 4, 3, 3, 4, 3, 2, 1, 1, 1, 0, 1, 1, 0, 0, 0,\n",
              "       4, 4, 4, 1, 4, 2, 4, 4, 0, 2, 3, 4, 3, 1, 4, 2, 1, 2, 4, 4, 4, 4,\n",
              "       0, 2, 1, 1, 2, 4, 3, 0, 1, 1, 3, 3, 4, 1, 1, 2, 4, 2, 3, 2, 0, 1,\n",
              "       1, 1, 1, 3, 2, 1, 4, 4, 3, 0, 2, 3, 4, 1, 3, 2, 4, 1, 4, 4, 1, 4,\n",
              "       0, 3, 2, 4, 1, 0, 4, 0, 3, 1, 4, 0, 3, 4, 1, 0, 0, 1, 2, 0, 4, 3,\n",
              "       3, 1, 0, 1, 3, 4, 1, 3, 1, 1, 1, 1, 2, 2, 1, 1, 2, 2, 4, 3, 1, 1,\n",
              "       1, 3, 3, 2, 0, 0, 4, 3, 2, 4, 4, 3, 4, 1, 4, 1, 1, 3, 0, 4, 1, 4,\n",
              "       4, 4, 2, 4, 3, 3, 3, 3, 4, 2, 2, 3, 1, 4, 4, 3, 2, 4, 1, 3, 3, 4,\n",
              "       4, 2, 3, 1, 4, 0, 3, 3, 4, 3, 2, 4, 2, 1, 4, 2, 2, 0, 3, 1, 4, 4,\n",
              "       0, 2, 3, 4, 2, 0, 1, 2, 1, 1, 1, 3, 1, 1, 4, 4, 1, 4, 3, 3, 3, 2,\n",
              "       3, 4, 1, 1, 4, 1, 3, 0, 1, 2, 2, 2, 1, 2, 2, 1, 1, 1, 0, 1, 3, 3,\n",
              "       3, 4, 1, 2, 3, 2, 3, 4])"
            ]
          },
          "metadata": {},
          "execution_count": 26
        }
      ]
    },
    {
      "cell_type": "code",
      "source": [
        "y_test.values"
      ],
      "metadata": {
        "execution": {
          "iopub.status.busy": "2023-12-10T08:49:11.768260Z",
          "iopub.execute_input": "2023-12-10T08:49:11.768757Z",
          "iopub.status.idle": "2023-12-10T08:49:11.780549Z",
          "shell.execute_reply.started": "2023-12-10T08:49:11.768717Z",
          "shell.execute_reply": "2023-12-10T08:49:11.779258Z"
        },
        "trusted": true,
        "colab": {
          "base_uri": "https://localhost:8080/"
        },
        "id": "Pt2qcN7L7iFF",
        "outputId": "de6faaeb-c2fc-452e-a845-510a6529b30a"
      },
      "execution_count": 27,
      "outputs": [
        {
          "output_type": "execute_result",
          "data": {
            "text/plain": [
              "array([0, 4, 2, 3, 3, 1, 2, 1, 1, 3, 3, 1, 1, 0, 1, 3, 0, 2, 4, 1, 4, 0,\n",
              "       1, 4, 4, 4, 3, 0, 3, 4, 1, 4, 3, 0, 0, 0, 3, 2, 3, 3, 4, 0, 4, 2,\n",
              "       2, 4, 2, 3, 4, 2, 0, 2, 3, 3, 4, 1, 4, 3, 2, 4, 1, 1, 1, 1, 4, 2,\n",
              "       3, 1, 1, 4, 3, 0, 1, 3, 4, 2, 3, 4, 4, 2, 4, 2, 0, 1, 1, 1, 0, 3,\n",
              "       4, 4, 4, 0, 1, 4, 4, 1, 3, 0, 1, 0, 3, 1, 4, 4, 0, 1, 2, 4, 4, 0,\n",
              "       1, 1, 1, 4, 3, 1, 2, 0, 4, 3, 4, 1, 2, 4, 3, 4, 0, 4, 2, 3, 2, 0,\n",
              "       4, 1, 2, 1, 1, 0, 3, 4, 0, 4, 1, 0, 0, 0, 0, 4, 2, 0, 1, 4, 2, 2,\n",
              "       3, 4, 2, 0, 3, 1, 3, 3, 3, 1, 4, 2, 0, 3, 4, 1, 4, 3, 1, 2, 3, 4,\n",
              "       0, 3, 1, 1, 1, 2, 2, 4, 4, 3, 4, 3, 0, 1, 1, 1, 0, 0, 1, 0, 0, 0,\n",
              "       4, 4, 0, 0, 4, 2, 4, 3, 0, 4, 3, 4, 3, 1, 2, 3, 1, 2, 4, 4, 4, 2,\n",
              "       0, 2, 1, 1, 0, 3, 3, 0, 1, 1, 4, 3, 0, 1, 1, 2, 0, 2, 3, 0, 0, 1,\n",
              "       1, 1, 1, 3, 2, 1, 4, 4, 3, 2, 3, 4, 2, 1, 3, 2, 4, 1, 4, 3, 1, 4,\n",
              "       0, 3, 2, 2, 1, 0, 2, 0, 4, 1, 4, 0, 3, 4, 1, 0, 0, 1, 2, 0, 4, 0,\n",
              "       0, 1, 0, 1, 3, 4, 1, 3, 1, 1, 1, 1, 2, 2, 1, 1, 2, 3, 0, 0, 1, 1,\n",
              "       1, 2, 0, 2, 0, 0, 4, 3, 2, 4, 4, 4, 4, 1, 4, 1, 1, 1, 0, 4, 1, 4,\n",
              "       2, 4, 2, 4, 4, 3, 3, 0, 2, 2, 2, 3, 1, 4, 4, 4, 4, 4, 0, 3, 4, 2,\n",
              "       4, 3, 3, 1, 4, 0, 3, 3, 0, 3, 2, 4, 2, 1, 4, 2, 2, 0, 4, 1, 4, 0,\n",
              "       0, 4, 3, 2, 2, 0, 1, 2, 1, 0, 1, 0, 0, 1, 4, 0, 1, 0, 4, 2, 3, 2,\n",
              "       3, 4, 4, 1, 3, 1, 3, 0, 1, 2, 0, 4, 1, 4, 2, 1, 1, 1, 0, 1, 3, 4,\n",
              "       1, 2, 3, 2, 0, 2, 3, 0])"
            ]
          },
          "metadata": {},
          "execution_count": 27
        }
      ]
    },
    {
      "cell_type": "code",
      "source": [
        "from sklearn.metrics import classification_report, confusion_matrix, ConfusionMatrixDisplay\n",
        "\n",
        "print(classification_report(predictions, y_test.values))\n",
        "\n",
        "ConfusionMatrixDisplay(confusion_matrix(predictions, y_test.values),\n",
        "                             display_labels=['Politics', 'Sport', 'Technology', 'Entertainment', 'Business']).plot()"
      ],
      "metadata": {
        "execution": {
          "iopub.status.busy": "2023-12-10T09:11:55.075455Z",
          "iopub.execute_input": "2023-12-10T09:11:55.075933Z",
          "iopub.status.idle": "2023-12-10T09:11:55.506429Z",
          "shell.execute_reply.started": "2023-12-10T09:11:55.075897Z",
          "shell.execute_reply": "2023-12-10T09:11:55.504542Z"
        },
        "trusted": true,
        "colab": {
          "base_uri": "https://localhost:8080/",
          "height": 675
        },
        "id": "INBj8QWs7iFF",
        "outputId": "674b01b9-24af-4d7f-ae2c-bb7b495b93d1"
      },
      "execution_count": 28,
      "outputs": [
        {
          "output_type": "stream",
          "name": "stdout",
          "text": [
            "              precision    recall  f1-score   support\n",
            "\n",
            "           0       0.54      0.86      0.67        51\n",
            "           1       0.95      0.82      0.88       117\n",
            "           2       0.71      0.64      0.67        77\n",
            "           3       0.61      0.59      0.60        76\n",
            "           4       0.67      0.65      0.66       105\n",
            "\n",
            "    accuracy                           0.71       426\n",
            "   macro avg       0.70      0.71      0.70       426\n",
            "weighted avg       0.73      0.71      0.71       426\n",
            "\n"
          ]
        },
        {
          "output_type": "execute_result",
          "data": {
            "text/plain": [
              "<sklearn.metrics._plot.confusion_matrix.ConfusionMatrixDisplay at 0x7d200ef2ff10>"
            ]
          },
          "metadata": {},
          "execution_count": 28
        },
        {
          "output_type": "display_data",
          "data": {
            "text/plain": [
              "<Figure size 640x480 with 2 Axes>"
            ],
            "image/png": "[encoded data removed]"
          },
          "metadata": {}
        }
      ]
    },
    {
      "cell_type": "code",
      "source": [],
      "metadata": {
        "id": "uvbNMrdQ7iFF"
      },
      "execution_count": 28,
      "outputs": []
    }
  ]
}