{
  "metadata": {
    "kernelspec": {
      "language": "python",
      "display_name": "Python 3",
      "name": "python3"
    },
    "language_info": {
      "name": "python",
      "version": "3.10.12",
      "mimetype": "text/x-python",
      "codemirror_mode": {
        "name": "ipython",
        "version": 3
      },
      "pygments_lexer": "ipython3",
      "nbconvert_exporter": "python",
      "file_extension": ".py"
    },
    "colab": {
      "provenance": []
    }
  },
  "nbformat_minor": 0,
  "nbformat": 4,
  "cells": [
    {
      "cell_type": "code",
      "source": [
        "from google.colab import drive\n",
        "drive.mount('/gdrive/')\n",
        "%cd /gdrive"
      ],
      "metadata": {
        "colab": {
          "base_uri": "https://localhost:8080/"
        },
        "id": "p0uK7m3o7tiX",
        "outputId": "a6f57994-6756-413a-eaaf-d497f176d1fa"
      },
      "execution_count": 1,
      "outputs": [
        {
          "output_type": "stream",
          "name": "stdout",
          "text": [
            "Mounted at /gdrive/\n",
            "/gdrive\n"
          ]
        }
      ]
    },
    {
      "cell_type": "code",
      "source": [
        "ls"
      ],
      "metadata": {
        "colab": {
          "base_uri": "https://localhost:8080/"
        },
        "id": "hPkR_TDW7stL",
        "outputId": "4ab91fe1-9186-4038-8567-7b1fbd5da8db"
      },
      "execution_count": 2,
      "outputs": [
        {
          "output_type": "stream",
          "name": "stdout",
          "text": [
            "\u001b[0m\u001b[01;34mMyDrive\u001b[0m/\n"
          ]
        }
      ]
    },
    {
      "cell_type": "code",
      "source": [
        " cd/gdrive/MyDrive/Document_Classification/"
      ],
      "metadata": {
        "colab": {
          "base_uri": "https://localhost:8080/"
        },
        "id": "VxL8HJKr76jF",
        "outputId": "83e3b7f4-7c19-4066-9fe4-eeefe81230ba"
      },
      "execution_count": 3,
      "outputs": [
        {
          "output_type": "stream",
          "name": "stdout",
          "text": [
            "/gdrive/MyDrive/Document_Classification\n"
          ]
        }
      ]
    },
    {
      "cell_type": "code",
      "source": [
        "ls"
      ],
      "metadata": {
        "colab": {
          "base_uri": "https://localhost:8080/"
        },
        "id": "MJ1sTilY77PE",
        "outputId": "f3dc2939-89b9-432f-8c3d-b4e7f4126e61"
      },
      "execution_count": 4,
      "outputs": [
        {
          "output_type": "stream",
          "name": "stdout",
          "text": [
            "data.csv                       text-document-classification-clustering.ipynb\n",
            "document-classification.ipynb  text-document-classification.ipynb\n"
          ]
        }
      ]
    },
    {
      "cell_type": "code",
      "source": [
        "import pandas as pd\n",
        "import numpy as np\n",
        "import matplotlib.pyplot as plt\n",
        "import seaborn as sns\n",
        "import os\n",
        "import nltk"
      ],
      "metadata": {
        "execution": {
          "iopub.status.busy": "2023-12-10T04:42:00.384773Z",
          "iopub.execute_input": "2023-12-10T04:42:00.385176Z",
          "iopub.status.idle": "2023-12-10T04:42:00.393460Z",
          "shell.execute_reply.started": "2023-12-10T04:42:00.385139Z",
          "shell.execute_reply": "2023-12-10T04:42:00.392281Z"
        },
        "trusted": true,
        "id": "hav45aM87gyV"
      },
      "execution_count": 5,
      "outputs": []
    },
    {
      "cell_type": "code",
      "source": [
        "nltk.download('stopwords')\n",
        "nltk.download('punkt')\n",
        "nltk.download('wordnet')"
      ],
      "metadata": {
        "colab": {
          "base_uri": "https://localhost:8080/"
        },
        "id": "1QFLELXMAe7W",
        "outputId": "0e8486b5-0822-4214-b072-a7f34b7882ba"
      },
      "execution_count": 6,
      "outputs": [
        {
          "output_type": "stream",
          "name": "stderr",
          "text": [
            "[nltk_data] Downloading package stopwords to /root/nltk_data...\n",
            "[nltk_data]   Unzipping corpora/stopwords.zip.\n",
            "[nltk_data] Downloading package punkt to /root/nltk_data...\n",
            "[nltk_data]   Unzipping tokenizers/punkt.zip.\n",
            "[nltk_data] Downloading package wordnet to /root/nltk_data...\n"
          ]
        },
        {
          "output_type": "execute_result",
          "data": {
            "text/plain": [
              "True"
            ]
          },
          "metadata": {},
          "execution_count": 6
        }
      ]
    },
    {
      "cell_type": "code",
      "source": [
        "import subprocess\n",
        "from nltk.corpus import wordnet"
      ],
      "metadata": {
        "execution": {
          "iopub.status.busy": "2023-12-10T04:42:00.395860Z",
          "iopub.execute_input": "2023-12-10T04:42:00.397609Z",
          "iopub.status.idle": "2023-12-10T04:42:01.451768Z",
          "shell.execute_reply.started": "2023-12-10T04:42:00.397565Z",
          "shell.execute_reply": "2023-12-10T04:42:01.450541Z"
        },
        "trusted": true,
        "id": "yZvtapbB7gyV"
      },
      "execution_count": 7,
      "outputs": []
    },
    {
      "cell_type": "code",
      "source": [
        "# Libraries for NLP\n",
        "import re\n",
        "from nltk.stem import WordNetLemmatizer\n",
        "from nltk.corpus import stopwords\n",
        "# Create WordNetLemmatizer object\n",
        "wnl = WordNetLemmatizer()"
      ],
      "metadata": {
        "execution": {
          "iopub.status.busy": "2023-12-10T04:42:01.453034Z",
          "iopub.execute_input": "2023-12-10T04:42:01.453524Z",
          "iopub.status.idle": "2023-12-10T04:42:01.462052Z",
          "shell.execute_reply.started": "2023-12-10T04:42:01.453476Z",
          "shell.execute_reply": "2023-12-10T04:42:01.459939Z"
        },
        "trusted": true,
        "id": "aU_EG8fE7gyW"
      },
      "execution_count": 8,
      "outputs": []
    },
    {
      "cell_type": "code",
      "source": [
        "# Reading the data\n",
        "df = pd.read_csv('data.csv')"
      ],
      "metadata": {
        "execution": {
          "iopub.status.busy": "2023-12-10T04:42:01.477552Z",
          "iopub.execute_input": "2023-12-10T04:42:01.478628Z",
          "iopub.status.idle": "2023-12-10T04:42:01.550776Z",
          "shell.execute_reply.started": "2023-12-10T04:42:01.478574Z",
          "shell.execute_reply": "2023-12-10T04:42:01.549352Z"
        },
        "trusted": true,
        "id": "kizh7Nl97gyW"
      },
      "execution_count": 9,
      "outputs": []
    },
    {
      "cell_type": "code",
      "source": [
        "df.head()"
      ],
      "metadata": {
        "execution": {
          "iopub.status.busy": "2023-12-10T04:42:01.552524Z",
          "iopub.execute_input": "2023-12-10T04:42:01.553340Z",
          "iopub.status.idle": "2023-12-10T04:42:01.566276Z",
          "shell.execute_reply.started": "2023-12-10T04:42:01.553265Z",
          "shell.execute_reply": "2023-12-10T04:42:01.565140Z"
        },
        "trusted": true,
        "colab": {
          "base_uri": "https://localhost:8080/",
          "height": 206
        },
        "id": "nEUiaO937gyX",
        "outputId": "ae6ba942-64d2-4e21-9dbe-abd14e9cd2f3"
      },
      "execution_count": 10,
      "outputs": [
        {
          "output_type": "execute_result",
          "data": {
            "text/plain": [
              "                                                Text  Label\n",
              "0  Budget to set scene for election\\n \\n Gordon B...      0\n",
              "1  Army chiefs in regiments decision\\n \\n Militar...      0\n",
              "2  Howard denies split over ID cards\\n \\n Michael...      0\n",
              "3  Observers to monitor UK election\\n \\n Minister...      0\n",
              "4  Kilroy names election seat target\\n \\n Ex-chat...      0"
            ],
            "text/html": [
              "\n",
              "  <div id=\"df-9bd4c9b4-1001-487c-b5b7-2d2e3fd6bedb\" class=\"colab-df-container\">\n",
              "    <div>\n",
              "<style scoped>\n",
              "    .dataframe tbody tr th:only-of-type {\n",
              "        vertical-align: middle;\n",
              "    }\n",
              "\n",
              "    .dataframe tbody tr th {\n",
              "        vertical-align: top;\n",
              "    }\n",
              "\n",
              "    .dataframe thead th {\n",
              "        text-align: right;\n",
              "    }\n",
              "</style>\n",
              "<table border=\"1\" class=\"dataframe\">\n",
              "  <thead>\n",
              "    <tr style=\"text-align: right;\">\n",
              "      <th></th>\n",
              "      <th>Text</th>\n",
              "      <th>Label</th>\n",
              "    </tr>\n",
              "  </thead>\n",
              "  <tbody>\n",
              "    <tr>\n",
              "      <th>0</th>\n",
              "      <td>Budget to set scene for election\\n \\n Gordon B...</td>\n",
              "      <td>0</td>\n",
              "    </tr>\n",
              "    <tr>\n",
              "      <th>1</th>\n",
              "      <td>Army chiefs in regiments decision\\n \\n Militar...</td>\n",
              "      <td>0</td>\n",
              "    </tr>\n",
              "    <tr>\n",
              "      <th>2</th>\n",
              "      <td>Howard denies split over ID cards\\n \\n Michael...</td>\n",
              "      <td>0</td>\n",
              "    </tr>\n",
              "    <tr>\n",
              "      <th>3</th>\n",
              "      <td>Observers to monitor UK election\\n \\n Minister...</td>\n",
              "      <td>0</td>\n",
              "    </tr>\n",
              "    <tr>\n",
              "      <th>4</th>\n",
              "      <td>Kilroy names election seat target\\n \\n Ex-chat...</td>\n",
              "      <td>0</td>\n",
              "    </tr>\n",
              "  </tbody>\n",
              "</table>\n",
              "</div>\n",
              "    <div class=\"colab-df-buttons\">\n",
              "\n",
              "  <div class=\"colab-df-container\">\n",
              "    <button class=\"colab-df-convert\" onclick=\"convertToInteractive('df-9bd4c9b4-1001-487c-b5b7-2d2e3fd6bedb')\"\n",
              "            title=\"Convert this dataframe to an interactive table.\"\n",
              "            style=\"display:none;\">\n",
              "\n",
              "  <svg xmlns=\"http://www.w3.org/2000/svg\" height=\"24px\" viewBox=\"0 -960 960 960\">\n",
              "    <path d=\"M120-120v-720h720v720H120Zm60-500h600v-160H180v160Zm220 220h160v-160H400v160Zm0 220h160v-160H400v160ZM180-400h160v-160H180v160Zm440 0h160v-160H620v160ZM180-180h160v-160H180v160Zm440 0h160v-160H620v160Z\"/>\n",
              "  </svg>\n",
              "    </button>\n",
              "\n",
              "  <style>\n",
              "    .colab-df-container {\n",
              "      display:flex;\n",
              "      gap: 12px;\n",
              "    }\n",
              "\n",
              "    .colab-df-convert {\n",
              "      background-color: #E8F0FE;\n",
              "      border: none;\n",
              "      border-radius: 50%;\n",
              "      cursor: pointer;\n",
              "      display: none;\n",
              "      fill: #1967D2;\n",
              "      height: 32px;\n",
              "      padding: 0 0 0 0;\n",
              "      width: 32px;\n",
              "    }\n",
              "\n",
              "    .colab-df-convert:hover {\n",
              "      background-color: #E2EBFA;\n",
              "      box-shadow: 0px 1px 2px rgba(60, 64, 67, 0.3), 0px 1px 3px 1px rgba(60, 64, 67, 0.15);\n",
              "      fill: #174EA6;\n",
              "    }\n",
              "\n",
              "    .colab-df-buttons div {\n",
              "      margin-bottom: 4px;\n",
              "    }\n",
              "\n",
              "    [theme=dark] .colab-df-convert {\n",
              "      background-color: #3B4455;\n",
              "      fill: #D2E3FC;\n",
              "    }\n",
              "\n",
              "    [theme=dark] .colab-df-convert:hover {\n",
              "      background-color: #434B5C;\n",
              "      box-shadow: 0px 1px 3px 1px rgba(0, 0, 0, 0.15);\n",
              "      filter: drop-shadow(0px 1px 2px rgba(0, 0, 0, 0.3));\n",
              "      fill: #FFFFFF;\n",
              "    }\n",
              "  </style>\n",
              "\n",
              "    <script>\n",
              "      const buttonEl =\n",
              "        document.querySelector('#df-9bd4c9b4-1001-487c-b5b7-2d2e3fd6bedb button.colab-df-convert');\n",
              "      buttonEl.style.display =\n",
              "        google.colab.kernel.accessAllowed ? 'block' : 'none';\n",
              "\n",
              "      async function convertToInteractive(key) {\n",
              "        const element = document.querySelector('#df-9bd4c9b4-1001-487c-b5b7-2d2e3fd6bedb');\n",
              "        const dataTable =\n",
              "          await google.colab.kernel.invokeFunction('convertToInteractive',\n",
              "                                                    [key], {});\n",
              "        if (!dataTable) return;\n",
              "\n",
              "        const docLinkHtml = 'Like what you see? Visit the ' +\n",
              "          '<a target=\"_blank\" href=https://colab.research.google.com/notebooks/data_table.ipynb>data table notebook</a>'\n",
              "          + ' to learn more about interactive tables.';\n",
              "        element.innerHTML = '';\n",
              "        dataTable['output_type'] = 'display_data';\n",
              "        await google.colab.output.renderOutput(dataTable, element);\n",
              "        const docLink = document.createElement('div');\n",
              "        docLink.innerHTML = docLinkHtml;\n",
              "        element.appendChild(docLink);\n",
              "      }\n",
              "    </script>\n",
              "  </div>\n",
              "\n",
              "\n",
              "<div id=\"df-27e3e9f3-0e77-4cb6-bbf9-9a9b0dc56e90\">\n",
              "  <button class=\"colab-df-quickchart\" onclick=\"quickchart('df-27e3e9f3-0e77-4cb6-bbf9-9a9b0dc56e90')\"\n",
              "            title=\"Suggest charts\"\n",
              "            style=\"display:none;\">\n",
              "\n",
              "<svg xmlns=\"http://www.w3.org/2000/svg\" height=\"24px\"viewBox=\"0 0 24 24\"\n",
              "     width=\"24px\">\n",
              "    <g>\n",
              "        <path d=\"M19 3H5c-1.1 0-2 .9-2 2v14c0 1.1.9 2 2 2h14c1.1 0 2-.9 2-2V5c0-1.1-.9-2-2-2zM9 17H7v-7h2v7zm4 0h-2V7h2v10zm4 0h-2v-4h2v4z\"/>\n",
              "    </g>\n",
              "</svg>\n",
              "  </button>\n",
              "\n",
              "<style>\n",
              "  .colab-df-quickchart {\n",
              "      --bg-color: #E8F0FE;\n",
              "      --fill-color: #1967D2;\n",
              "      --hover-bg-color: #E2EBFA;\n",
              "      --hover-fill-color: #174EA6;\n",
              "      --disabled-fill-color: #AAA;\n",
              "      --disabled-bg-color: #DDD;\n",
              "  }\n",
              "\n",
              "  [theme=dark] .colab-df-quickchart {\n",
              "      --bg-color: #3B4455;\n",
              "      --fill-color: #D2E3FC;\n",
              "      --hover-bg-color: #434B5C;\n",
              "      --hover-fill-color: #FFFFFF;\n",
              "      --disabled-bg-color: #3B4455;\n",
              "      --disabled-fill-color: #666;\n",
              "  }\n",
              "\n",
              "  .colab-df-quickchart {\n",
              "    background-color: var(--bg-color);\n",
              "    border: none;\n",
              "    border-radius: 50%;\n",
              "    cursor: pointer;\n",
              "    display: none;\n",
              "    fill: var(--fill-color);\n",
              "    height: 32px;\n",
              "    padding: 0;\n",
              "    width: 32px;\n",
              "  }\n",
              "\n",
              "  .colab-df-quickchart:hover {\n",
              "    background-color: var(--hover-bg-color);\n",
              "    box-shadow: 0 1px 2px rgba(60, 64, 67, 0.3), 0 1px 3px 1px rgba(60, 64, 67, 0.15);\n",
              "    fill: var(--button-hover-fill-color);\n",
              "  }\n",
              "\n",
              "  .colab-df-quickchart-complete:disabled,\n",
              "  .colab-df-quickchart-complete:disabled:hover {\n",
              "    background-color: var(--disabled-bg-color);\n",
              "    fill: var(--disabled-fill-color);\n",
              "    box-shadow: none;\n",
              "  }\n",
              "\n",
              "  .colab-df-spinner {\n",
              "    border: 2px solid var(--fill-color);\n",
              "    border-color: transparent;\n",
              "    border-bottom-color: var(--fill-color);\n",
              "    animation:\n",
              "      spin 1s steps(1) infinite;\n",
              "  }\n",
              "\n",
              "  @keyframes spin {\n",
              "    0% {\n",
              "      border-color: transparent;\n",
              "      border-bottom-color: var(--fill-color);\n",
              "      border-left-color: var(--fill-color);\n",
              "    }\n",
              "    20% {\n",
              "      border-color: transparent;\n",
              "      border-left-color: var(--fill-color);\n",
              "      border-top-color: var(--fill-color);\n",
              "    }\n",
              "    30% {\n",
              "      border-color: transparent;\n",
              "      border-left-color: var(--fill-color);\n",
              "      border-top-color: var(--fill-color);\n",
              "      border-right-color: var(--fill-color);\n",
              "    }\n",
              "    40% {\n",
              "      border-color: transparent;\n",
              "      border-right-color: var(--fill-color);\n",
              "      border-top-color: var(--fill-color);\n",
              "    }\n",
              "    60% {\n",
              "      border-color: transparent;\n",
              "      border-right-color: var(--fill-color);\n",
              "    }\n",
              "    80% {\n",
              "      border-color: transparent;\n",
              "      border-right-color: var(--fill-color);\n",
              "      border-bottom-color: var(--fill-color);\n",
              "    }\n",
              "    90% {\n",
              "      border-color: transparent;\n",
              "      border-bottom-color: var(--fill-color);\n",
              "    }\n",
              "  }\n",
              "</style>\n",
              "\n",
              "  <script>\n",
              "    async function quickchart(key) {\n",
              "      const quickchartButtonEl =\n",
              "        document.querySelector('#' + key + ' button');\n",
              "      quickchartButtonEl.disabled = true;  // To prevent multiple clicks.\n",
              "      quickchartButtonEl.classList.add('colab-df-spinner');\n",
              "      try {\n",
              "        const charts = await google.colab.kernel.invokeFunction(\n",
              "            'suggestCharts', [key], {});\n",
              "      } catch (error) {\n",
              "        console.error('Error during call to suggestCharts:', error);\n",
              "      }\n",
              "      quickchartButtonEl.classList.remove('colab-df-spinner');\n",
              "      quickchartButtonEl.classList.add('colab-df-quickchart-complete');\n",
              "    }\n",
              "    (() => {\n",
              "      let quickchartButtonEl =\n",
              "        document.querySelector('#df-27e3e9f3-0e77-4cb6-bbf9-9a9b0dc56e90 button');\n",
              "      quickchartButtonEl.style.display =\n",
              "        google.colab.kernel.accessAllowed ? 'block' : 'none';\n",
              "    })();\n",
              "  </script>\n",
              "</div>\n",
              "    </div>\n",
              "  </div>\n"
            ]
          },
          "metadata": {},
          "execution_count": 10
        }
      ]
    },
    {
      "cell_type": "code",
      "source": [
        "# Getting the info, checking null etc\n",
        "df.info()"
      ],
      "metadata": {
        "execution": {
          "iopub.status.busy": "2023-12-10T04:42:01.567778Z",
          "iopub.execute_input": "2023-12-10T04:42:01.568278Z",
          "iopub.status.idle": "2023-12-10T04:42:01.586283Z",
          "shell.execute_reply.started": "2023-12-10T04:42:01.568238Z",
          "shell.execute_reply": "2023-12-10T04:42:01.584769Z"
        },
        "trusted": true,
        "colab": {
          "base_uri": "https://localhost:8080/"
        },
        "id": "x71gsZnw7gyX",
        "outputId": "1dc6ec3e-46a1-4159-842d-f9be76429d54"
      },
      "execution_count": 11,
      "outputs": [
        {
          "output_type": "stream",
          "name": "stdout",
          "text": [
            "<class 'pandas.core.frame.DataFrame'>\n",
            "RangeIndex: 2225 entries, 0 to 2224\n",
            "Data columns (total 2 columns):\n",
            " #   Column  Non-Null Count  Dtype \n",
            "---  ------  --------------  ----- \n",
            " 0   Text    2225 non-null   object\n",
            " 1   Label   2225 non-null   int64 \n",
            "dtypes: int64(1), object(1)\n",
            "memory usage: 34.9+ KB\n"
          ]
        }
      ]
    },
    {
      "cell_type": "markdown",
      "source": [
        "According to the Data Definition, the labels are as follows -                   \n",
        "Politics = 0                                                                  \n",
        "Sport = 1                                                                       \n",
        "Technology = 2                                                                  \n",
        "Entertainment = 3                                                               \n",
        "Business = 4"
      ],
      "metadata": {
        "id": "iHlX8STu7gyX"
      }
    },
    {
      "cell_type": "code",
      "source": [
        "# Checking the o/p class\n",
        "sns.countplot(x = df['Label'])"
      ],
      "metadata": {
        "execution": {
          "iopub.status.busy": "2023-12-10T04:42:01.588388Z",
          "iopub.execute_input": "2023-12-10T04:42:01.589113Z",
          "iopub.status.idle": "2023-12-10T04:42:01.834284Z",
          "shell.execute_reply.started": "2023-12-10T04:42:01.589066Z",
          "shell.execute_reply": "2023-12-10T04:42:01.833390Z"
        },
        "trusted": true,
        "colab": {
          "base_uri": "https://localhost:8080/",
          "height": 466
        },
        "id": "CEm8Ud497gyY",
        "outputId": "64e620cd-9b4d-462c-f540-210f3a8fc9a0"
      },
      "execution_count": 12,
      "outputs": [
        {
          "output_type": "execute_result",
          "data": {
            "text/plain": [
              "<Axes: xlabel='Label', ylabel='count'>"
            ]
          },
          "metadata": {},
          "execution_count": 12
        },
        {
          "output_type": "display_data",
          "data": {
            "text/plain": [
              "<Figure size 640x480 with 1 Axes>"
            ],
            "image/png": "[encoded data removed]"
          },
          "metadata": {}
        }
      ]
    },
    {
      "cell_type": "markdown",
      "source": [
        "There is no up or down sampling needed as output Labels are more or less evenly distributed."
      ],
      "metadata": {
        "id": "U5d-fC6O7gyZ"
      }
    },
    {
      "cell_type": "code",
      "source": [
        "# We are going for standard ML approch\n",
        "from sklearn.model_selection import train_test_split\n",
        "from sklearn.metrics import confusion_matrix,accuracy_score,classification_report\n",
        "from sklearn.preprocessing import LabelEncoder\n",
        "from sklearn.pipeline import Pipeline\n",
        "from sklearn.feature_extraction.text import TfidfVectorizer, CountVectorizer\n",
        "from sklearn.preprocessing import StandardScaler"
      ],
      "metadata": {
        "execution": {
          "iopub.status.busy": "2023-12-10T04:42:01.835620Z",
          "iopub.execute_input": "2023-12-10T04:42:01.836213Z",
          "iopub.status.idle": "2023-12-10T04:42:01.842639Z",
          "shell.execute_reply.started": "2023-12-10T04:42:01.836176Z",
          "shell.execute_reply": "2023-12-10T04:42:01.841384Z"
        },
        "trusted": true,
        "id": "nHJsh3787gyZ"
      },
      "execution_count": 13,
      "outputs": []
    },
    {
      "cell_type": "code",
      "source": [
        "y = df['Label']\n",
        "print(y)"
      ],
      "metadata": {
        "execution": {
          "iopub.status.busy": "2023-12-10T04:42:01.844152Z",
          "iopub.execute_input": "2023-12-10T04:42:01.844562Z",
          "iopub.status.idle": "2023-12-10T04:42:01.860805Z",
          "shell.execute_reply.started": "2023-12-10T04:42:01.844526Z",
          "shell.execute_reply": "2023-12-10T04:42:01.859883Z"
        },
        "trusted": true,
        "colab": {
          "base_uri": "https://localhost:8080/"
        },
        "id": "Rp0xQRan7gyZ",
        "outputId": "fca1634d-b670-4303-8fcd-7e761a5df989"
      },
      "execution_count": 14,
      "outputs": [
        {
          "output_type": "stream",
          "name": "stdout",
          "text": [
            "0       0\n",
            "1       0\n",
            "2       0\n",
            "3       0\n",
            "4       0\n",
            "       ..\n",
            "2220    4\n",
            "2221    4\n",
            "2222    4\n",
            "2223    4\n",
            "2224    4\n",
            "Name: Label, Length: 2225, dtype: int64\n"
          ]
        }
      ]
    },
    {
      "cell_type": "code",
      "source": [
        "# Data Preprocessing\n",
        "def text_cleaning(txt):\n",
        "    txt = txt.lower()\n",
        "    txt = re.sub(r'[^a-zA-Z\\s]', '', txt)\n",
        "    words = [word for word in txt.split(' ') if word not in stopwords.words(\"english\")]\n",
        "    txt = ' '.join(wnl.lemmatize(word) for word in words)\n",
        "    return txt"
      ],
      "metadata": {
        "execution": {
          "iopub.status.busy": "2023-12-10T04:42:01.862607Z",
          "iopub.execute_input": "2023-12-10T04:42:01.862998Z",
          "iopub.status.idle": "2023-12-10T04:42:01.874437Z",
          "shell.execute_reply.started": "2023-12-10T04:42:01.862964Z",
          "shell.execute_reply": "2023-12-10T04:42:01.872897Z"
        },
        "trusted": true,
        "id": "KZ0y_pDs7gya"
      },
      "execution_count": 15,
      "outputs": []
    },
    {
      "cell_type": "code",
      "source": [
        "# Preprocessing the text content\n",
        "df['processed'] = df['Text'].apply(lambda x: text_cleaning(x))"
      ],
      "metadata": {
        "execution": {
          "iopub.status.busy": "2023-12-10T04:42:01.876729Z",
          "iopub.execute_input": "2023-12-10T04:42:01.877184Z",
          "iopub.status.idle": "2023-12-10T04:43:46.692874Z",
          "shell.execute_reply.started": "2023-12-10T04:42:01.877145Z",
          "shell.execute_reply": "2023-12-10T04:43:46.691776Z"
        },
        "trusted": true,
        "id": "1BKcUGsD7gya"
      },
      "execution_count": 16,
      "outputs": []
    },
    {
      "cell_type": "code",
      "source": [
        "# Splitting the data between training and test set\n",
        "X_train, X_test, y_train, y_test = train_test_split(df['processed'], y, test_size=0.2, random_state=101)"
      ],
      "metadata": {
        "execution": {
          "iopub.status.busy": "2023-12-10T04:43:46.694411Z",
          "iopub.execute_input": "2023-12-10T04:43:46.695576Z",
          "iopub.status.idle": "2023-12-10T04:43:46.703426Z",
          "shell.execute_reply.started": "2023-12-10T04:43:46.695509Z",
          "shell.execute_reply": "2023-12-10T04:43:46.702502Z"
        },
        "trusted": true,
        "id": "d63yZ9Iq7gya"
      },
      "execution_count": 17,
      "outputs": []
    },
    {
      "cell_type": "code",
      "source": [
        "# Let us apply now different classification algorithms\n",
        "from sklearn.linear_model import LogisticRegression\n",
        "from sklearn.svm import SVC\n",
        "from sklearn.tree import DecisionTreeClassifier\n",
        "from sklearn.ensemble import RandomForestClassifier\n",
        "from sklearn.neural_network import MLPClassifier\n",
        "from sklearn.linear_model import SGDClassifier\n",
        "from sklearn.neighbors import KNeighborsClassifier\n",
        "from sklearn.naive_bayes import GaussianNB\n",
        "from sklearn.pipeline import Pipeline\n",
        "from datetime import datetime"
      ],
      "metadata": {
        "execution": {
          "iopub.status.busy": "2023-12-10T04:43:46.706498Z",
          "iopub.execute_input": "2023-12-10T04:43:46.706871Z",
          "iopub.status.idle": "2023-12-10T04:43:46.881323Z",
          "shell.execute_reply.started": "2023-12-10T04:43:46.706831Z",
          "shell.execute_reply": "2023-12-10T04:43:46.880361Z"
        },
        "trusted": true,
        "id": "qTpoUdBc7gya"
      },
      "execution_count": 18,
      "outputs": []
    },
    {
      "cell_type": "markdown",
      "source": [
        "Even though Logistic Regression and SVM should not be applied for multiclass classification, I have still applied it in order to check the performance of different classification algorithms.                                                                                                                            For Feature extraction, I have used TfIdf Vectorizer as it has been one of the most useful way of representing text features."
      ],
      "metadata": {
        "id": "3hhHDIgK7gya"
      }
    },
    {
      "cell_type": "code",
      "source": [
        "from datetime import datetime\n",
        "from sklearn.metrics import accuracy_score, confusion_matrix, classification_report\n",
        "from sklearn.pipeline import Pipeline\n",
        "from sklearn.feature_extraction.text import TfidfVectorizer\n",
        "from sklearn.linear_model import LogisticRegression, SGDClassifier\n",
        "from sklearn.svm import SVC\n",
        "from sklearn.tree import DecisionTreeClassifier\n",
        "from sklearn.ensemble import RandomForestClassifier\n",
        "from sklearn.neural_network import MLPClassifier\n",
        "from sklearn.neighbors import KNeighborsClassifier\n",
        "\n",
        "# Assuming X_train, X_test, y_train, y_test are defined\n",
        "\n",
        "# Open a file for writing\n",
        "with open('model_results.txt', 'w') as f:\n",
        "    models = {\n",
        "        'Logistic Regression': LogisticRegression(),\n",
        "        'Support Vector Classifier': SVC(),\n",
        "        'Decision Tree': DecisionTreeClassifier(),\n",
        "        'Random Forest': RandomForestClassifier(),\n",
        "        'Neural Network': MLPClassifier(),\n",
        "        'Stochastic Gradient Descent': SGDClassifier(),\n",
        "        'KNN': KNeighborsClassifier()\n",
        "    }\n",
        "\n",
        "    for model, algorithm in models.items():\n",
        "        try:\n",
        "            start_time = datetime.now()\n",
        "\n",
        "            pipe = Pipeline([('tfIdf', TfidfVectorizer()), ('model', algorithm)])\n",
        "\n",
        "            pipe.fit(X_train, y_train)\n",
        "            end_time = datetime.now()\n",
        "\n",
        "            prediction = pipe.predict(X_test)\n",
        "\n",
        "            f.write(\"\\n \\n ======= For {} ============\".format(model))\n",
        "            f.write('Accuracy Score : {} '.format(accuracy_score(prediction, y_test)))\n",
        "            f.write('Confusion Matrix \\n\\n  {}'.format(confusion_matrix(prediction, y_test)))\n",
        "            f.write('\\n Classification Report \\n ')\n",
        "            f.write(classification_report(prediction, y_test))\n",
        "\n",
        "            time_difference = (end_time - start_time).total_seconds() * 10**3\n",
        "            f.write(\"Execution time of program is: {} ms\".format(time_difference))\n",
        "\n",
        "        except Exception as e:\n",
        "            print('Exception Occurred for {},  {}'.format(model, e))\n",
        "            f.write('Exception Occurred for {},  {}'.format(model, e))"
      ],
      "metadata": {
        "execution": {
          "iopub.status.busy": "2023-12-10T04:50:34.546505Z",
          "iopub.execute_input": "2023-12-10T04:50:34.547286Z",
          "iopub.status.idle": "2023-12-10T04:51:58.575268Z",
          "shell.execute_reply.started": "2023-12-10T04:50:34.547250Z",
          "shell.execute_reply": "2023-12-10T04:51:58.574191Z"
        },
        "trusted": true,
        "id": "iQuSbOOT7gya"
      },
      "execution_count": 20,
      "outputs": []
    },
    {
      "cell_type": "code",
      "source": [],
      "metadata": {
        "id": "TTS7PE8N7gyb"
      },
      "execution_count": null,
      "outputs": []
    }
  ]
}